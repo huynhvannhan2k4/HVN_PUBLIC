{
 "cells": [
  {
   "cell_type": "markdown",
   "id": "e832352b",
   "metadata": {},
   "source": [
    "# Báo cáo đề tài: Cải thiện chất lượng ảnh X-quang bằng Deep Learning\n",
    "\n",
    "## 1. Giới thiệu\n",
    "Đề tài tập trung vào việc sử dụng Deep Learning để cải thiện chất lượng ảnh X-quang, giúp hỗ trợ bác sĩ trong việc chẩn đoán bệnh. Mô hình được chọn là **Denoising Autoencoder**.\n",
    "\n",
    "## 2. Phương pháp\n",
    "### 2.1. Chuẩn bị dữ liệu\n",
    "- Bộ dữ liệu: \"Chest X-Ray Images (Pneumonia)\" từ Kaggle.\n",
    "- Tiền xử lý: Chuẩn hóa kích thước (256x256), tăng cường độ tương phản bằng CLAHE.\n",
    "\n",
    "### 2.2. Mô hình\n",
    "- Kiến trúc: Denoising Autoencoder với Encoder và Decoder.\n",
    "- Hàm mất mát: Mean Squared Error (MSE).\n",
    "\n",
    "### 2.3. Huấn luyện\n",
    "- Epochs: 50, Batch size: 32, Optimizer: Adam.\n",
    "\n",
    "## 3. Kết quả"
   ]
  },
  {
   "cell_type": "code",
   "execution_count": null,
   "id": "6a09368a",
   "metadata": {},
   "outputs": [],
   "source": [
    "%matplotlib inline\n",
    "import matplotlib.pyplot as plt\n",
    "from evaluate import *\n",
    "\n",
    "# Chạy đánh giá và hiển thị kết quả\n",
    "plt.figure(figsize=(10, 5))\n",
    "plt.subplot(1, 2, 1)\n",
    "plt.imshow(test_img, cmap='gray')\n",
    "plt.title('Original Image')\n",
    "plt.axis('off')\n",
    "plt.subplot(1, 2, 2)\n",
    "plt.imshow(predicted_img, cmap='gray')\n",
    "plt.title('Denoised Image')\n",
    "plt.axis('off')\n",
    "plt.show()\n",
    "\n",
    "print(f\"PSNR: {psnr:.2f}\")\n",
    "print(f\"SSIM: {ssim:.2f}\")"
   ]
  }
 ],
 "metadata": {
  "language_info": {
   "name": "python"
  }
 },
 "nbformat": 4,
 "nbformat_minor": 5
}
